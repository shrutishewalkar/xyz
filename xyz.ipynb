{
 "cells": [
  {
   "cell_type": "code",
   "execution_count": 1,
   "id": "18b8891d-69b8-4da1-ae1c-2ea7cb9545bb",
   "metadata": {},
   "outputs": [],
   "source": [
    "name='pwskills'"
   ]
  },
  {
   "cell_type": "code",
   "execution_count": 4,
   "id": "e2dc2d64-1aa6-4168-9d95-1dcc2be587d5",
   "metadata": {},
   "outputs": [
    {
     "ename": "NameError",
     "evalue": "name 'name' is not defined",
     "output_type": "error",
     "traceback": [
      "\u001b[0;31m---------------------------------------------------------------------------\u001b[0m",
      "\u001b[0;31mNameError\u001b[0m                                 Traceback (most recent call last)",
      "Cell \u001b[0;32mIn[4], line 1\u001b[0m\n\u001b[0;32m----> 1\u001b[0m \u001b[43mname\u001b[49m[\u001b[38;5;241m0\u001b[39m]\u001b[38;5;241m=\u001b[39m\u001b[38;5;124m'\u001b[39m\u001b[38;5;124mp\u001b[39m\u001b[38;5;124m'\u001b[39m\n",
      "\u001b[0;31mNameError\u001b[0m: name 'name' is not defined"
     ]
    }
   ],
   "source": [
    "name[0]='p'"
   ]
  },
  {
   "cell_type": "code",
   "execution_count": 5,
   "id": "df2d8ffd-b884-4d03-bdac-9bb081000952",
   "metadata": {},
   "outputs": [
    {
     "data": {
      "text/plain": [
       "(-1+3j)"
      ]
     },
     "execution_count": 5,
     "metadata": {},
     "output_type": "execute_result"
    }
   ],
   "source": [
    "num1=23\n",
    "num2=44\n",
    "num2=2+3j\n",
    "num1=num2.imag\n",
    "num2-num1\n"
   ]
  },
  {
   "cell_type": "code",
   "execution_count": 10,
   "id": "afa9264a-da3a-49a5-80b4-3df2402cb8d0",
   "metadata": {},
   "outputs": [
    {
     "ename": "ValueError",
     "evalue": "invalid literal for int() with base 10: 'pwskills'",
     "output_type": "error",
     "traceback": [
      "\u001b[0;31m---------------------------------------------------------------------------\u001b[0m",
      "\u001b[0;31mValueError\u001b[0m                                Traceback (most recent call last)",
      "Cell \u001b[0;32mIn[10], line 1\u001b[0m\n\u001b[0;32m----> 1\u001b[0m \u001b[38;5;28;43mint\u001b[39;49m\u001b[43m(\u001b[49m\u001b[38;5;124;43m'\u001b[39;49m\u001b[38;5;124;43mpwskills\u001b[39;49m\u001b[38;5;124;43m'\u001b[39;49m\u001b[43m)\u001b[49m\u001b[38;5;241m+\u001b[39m\u001b[38;5;241m1\u001b[39m\n",
      "\u001b[0;31mValueError\u001b[0m: invalid literal for int() with base 10: 'pwskills'"
     ]
    }
   ],
   "source": [
    "int('pwskills')+1"
   ]
  },
  {
   "cell_type": "code",
   "execution_count": 11,
   "id": "6c6c2bd9-4e34-49cb-9149-b124245a39f5",
   "metadata": {},
   "outputs": [
    {
     "ename": "ValueError",
     "evalue": "invalid literal for int() with base 10: 'pwskills'",
     "output_type": "error",
     "traceback": [
      "\u001b[0;31m---------------------------------------------------------------------------\u001b[0m",
      "\u001b[0;31mValueError\u001b[0m                                Traceback (most recent call last)",
      "Cell \u001b[0;32mIn[11], line 1\u001b[0m\n\u001b[0;32m----> 1\u001b[0m \u001b[38;5;28;43mint\u001b[39;49m\u001b[43m(\u001b[49m\u001b[38;5;124;43m'\u001b[39;49m\u001b[38;5;124;43mpwskills\u001b[39;49m\u001b[38;5;124;43m'\u001b[39;49m\u001b[43m)\u001b[49m\u001b[38;5;241m+\u001b[39m\u001b[38;5;241m1\u001b[39m\n",
      "\u001b[0;31mValueError\u001b[0m: invalid literal for int() with base 10: 'pwskills'"
     ]
    }
   ],
   "source": [
    "int('pwskills')+1"
   ]
  },
  {
   "cell_type": "code",
   "execution_count": 12,
   "id": "80eec870-eb3e-4043-86ea-3f536a390651",
   "metadata": {},
   "outputs": [
    {
     "ename": "TypeError",
     "evalue": "can only concatenate str (not \"type\") to str",
     "output_type": "error",
     "traceback": [
      "\u001b[0;31m---------------------------------------------------------------------------\u001b[0m",
      "\u001b[0;31mTypeError\u001b[0m                                 Traceback (most recent call last)",
      "Cell \u001b[0;32mIn[12], line 1\u001b[0m\n\u001b[0;32m----> 1\u001b[0m \u001b[38;5;124;43m'\u001b[39;49m\u001b[38;5;124;43mpwskills\u001b[39;49m\u001b[38;5;124;43m'\u001b[39;49m\u001b[38;5;241;43m+\u001b[39;49m\u001b[38;5;28;43mtype\u001b[39;49m\u001b[43m(\u001b[49m\u001b[38;5;241;43m1\u001b[39;49m\u001b[43m)\u001b[49m\n",
      "\u001b[0;31mTypeError\u001b[0m: can only concatenate str (not \"type\") to str"
     ]
    }
   ],
   "source": [
    "'pwskills'+type(1)"
   ]
  },
  {
   "cell_type": "code",
   "execution_count": 13,
   "id": "997ab834-93d4-48ae-8b11-b54d33abaeae",
   "metadata": {},
   "outputs": [
    {
     "data": {
      "text/plain": [
       "'pwskills1'"
      ]
     },
     "execution_count": 13,
     "metadata": {},
     "output_type": "execute_result"
    }
   ],
   "source": [
    "'pwskills'+str(1)"
   ]
  },
  {
   "cell_type": "code",
   "execution_count": 14,
   "id": "ecf806bf-6a25-41f6-96a3-96a6d33ad2d0",
   "metadata": {},
   "outputs": [
    {
     "ename": "NameError",
     "evalue": "name '_num' is not defined",
     "output_type": "error",
     "traceback": [
      "\u001b[0;31m---------------------------------------------------------------------------\u001b[0m",
      "\u001b[0;31mNameError\u001b[0m                                 Traceback (most recent call last)",
      "Cell \u001b[0;32mIn[14], line 1\u001b[0m\n\u001b[0;32m----> 1\u001b[0m \u001b[38;5;241m20\u001b[39m\u001b[38;5;241m%\u001b[39m\u001b[43m_num\u001b[49m\n",
      "\u001b[0;31mNameError\u001b[0m: name '_num' is not defined"
     ]
    }
   ],
   "source": [
    "20%_num"
   ]
  },
  {
   "cell_type": "code",
   "execution_count": 19,
   "id": "eab8b90d-2851-4272-9c75-6ede5eebc34d",
   "metadata": {},
   "outputs": [
    {
     "ename": "NameError",
     "evalue": "name 'Num_100' is not defined",
     "output_type": "error",
     "traceback": [
      "\u001b[0;31m---------------------------------------------------------------------------\u001b[0m",
      "\u001b[0;31mNameError\u001b[0m                                 Traceback (most recent call last)",
      "Cell \u001b[0;32mIn[19], line 1\u001b[0m\n\u001b[0;32m----> 1\u001b[0m \u001b[43mNum_100\u001b[49m\n",
      "\u001b[0;31mNameError\u001b[0m: name 'Num_100' is not defined"
     ]
    }
   ],
   "source": [
    "Num_100"
   ]
  },
  {
   "cell_type": "code",
   "execution_count": 17,
   "id": "f9d11fc0-c60c-4a6b-8a5a-f2f60682750d",
   "metadata": {},
   "outputs": [
    {
     "ename": "NameError",
     "evalue": "name 'Pw' is not defined",
     "output_type": "error",
     "traceback": [
      "\u001b[0;31m---------------------------------------------------------------------------\u001b[0m",
      "\u001b[0;31mNameError\u001b[0m                                 Traceback (most recent call last)",
      "Cell \u001b[0;32mIn[17], line 1\u001b[0m\n\u001b[0;32m----> 1\u001b[0m \u001b[43mPw\u001b[49m\u001b[38;5;241m-\u001b[39mskills\n",
      "\u001b[0;31mNameError\u001b[0m: name 'Pw' is not defined"
     ]
    }
   ],
   "source": [
    "Pw-skills\n"
   ]
  },
  {
   "cell_type": "code",
   "execution_count": 16,
   "id": "c19292b6-f76f-47ad-b923-672cd5c962ee",
   "metadata": {},
   "outputs": [
    {
     "ename": "NameError",
     "evalue": "name '_pw_skills' is not defined",
     "output_type": "error",
     "traceback": [
      "\u001b[0;31m---------------------------------------------------------------------------\u001b[0m",
      "\u001b[0;31mNameError\u001b[0m                                 Traceback (most recent call last)",
      "Cell \u001b[0;32mIn[16], line 1\u001b[0m\n\u001b[0;32m----> 1\u001b[0m \u001b[43m_pw_skills\u001b[49m\n",
      "\u001b[0;31mNameError\u001b[0m: name '_pw_skills' is not defined"
     ]
    }
   ],
   "source": [
    "_pw_skills"
   ]
  },
  {
   "cell_type": "code",
   "execution_count": 18,
   "id": "ef9c0ea2-8e6d-4dd5-8f36-3741b44cde2f",
   "metadata": {},
   "outputs": [
    {
     "data": {
      "text/plain": [
       "True"
      ]
     },
     "execution_count": 18,
     "metadata": {},
     "output_type": "execute_result"
    }
   ],
   "source": [
    "'pwskills'.upper().lower().isalnum()"
   ]
  },
  {
   "cell_type": "code",
   "execution_count": null,
   "id": "c45d921b-b171-4f36-b77f-9455f0f417ae",
   "metadata": {},
   "outputs": [],
   "source": [
    "20%num\n",
    "Num_100\n",
    "Pw-skills\n",
    "_pw_skills"
   ]
  }
 ],
 "metadata": {
  "kernelspec": {
   "display_name": "Python 3 (ipykernel)",
   "language": "python",
   "name": "python3"
  },
  "language_info": {
   "codemirror_mode": {
    "name": "ipython",
    "version": 3
   },
   "file_extension": ".py",
   "mimetype": "text/x-python",
   "name": "python",
   "nbconvert_exporter": "python",
   "pygments_lexer": "ipython3",
   "version": "3.10.8"
  }
 },
 "nbformat": 4,
 "nbformat_minor": 5
}
